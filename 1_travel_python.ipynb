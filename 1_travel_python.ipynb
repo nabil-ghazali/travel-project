{
 "cells": [
  {
   "cell_type": "markdown",
   "id": "afa68136",
   "metadata": {},
   "source": [
    "# En voyage avec (un) python\n",
    "\n",
    "Dans ce notebook on vous propose de découvrir quelques bases de python en s'intéressant à des carnets de voyage."
   ]
  },
  {
   "cell_type": "markdown",
   "id": "bf55835c",
   "metadata": {},
   "source": [
    "### 1 – Moyenne de photos prises par jour  \n",
    "On stocke des informations sur un voyage (_variables_), on calcule le nombre de photos prises par jour, et on affiche le résumé (`print`).\n",
    "\n",
    "Les f-strings permettent de faire de l'affichage (`print`) sans utiliser de virgules si vous voulez afficher à la fois du texte et une variable.\n",
    "\n",
    "Exemple : \n",
    "\n",
    "```print(f'Ma variable est égale à {nom_de_ma_variable})```\n",
    "\n",
    "\n",
    "Les # permettent d'écrire des commentaires, c'est-à-dire des lignes qui ne font pas parties du code au moment de l'éxécution.\n",
    "\n",
    "**TODO**\n",
    "\n",
    "- Calculer le nombre moyen de photos pris par jour durant le voyage,\n",
    "- Ajouter une nouvelle variable de votre choix et un nouveau calcul de variable,\n",
    "- Utiliser cette méthode pour afficher le nombre moyen de photo prises par jour."
   ]
  },
  {
   "cell_type": "code",
   "execution_count": null,
   "id": "b05d9e4b",
   "metadata": {},
   "outputs": [
    {
     "name": "stdout",
     "output_type": "stream",
     "text": [
      "<class 'str'>\n",
      "Le nombre moyen de photos pris par jour est de 42\n"
     ]
    }
   ],
   "source": [
    "# Define variables for the trip\n",
    "city = \"Montpellier\" \n",
    "\n",
    "# Plot variable type\n",
    "print(type(city)) # string = chaîne de caractères\n",
    "\n",
    "department = 34\n",
    "days_spent = 5.5 # float = nombre décimal\n",
    "photos_taken = 230 # integer = nombre entier\n",
    "great_trip = True # boolean = vrai ou faux\n"
   ]
  },
  {
   "cell_type": "code",
   "execution_count": 5,
   "id": "0063454a",
   "metadata": {},
   "outputs": [
    {
     "name": "stdout",
     "output_type": "stream",
     "text": [
      "True\n",
      "True\n"
     ]
    }
   ],
   "source": [
    "# Compare variables\n",
    "print(photos_taken > 200) # > est un opérateur de comparaison\n",
    "print(great_trip == True) # == is equal to, True if values are equal, False otherwise"
   ]
  },
  {
   "cell_type": "code",
   "execution_count": 7,
   "id": "4f0fbe5c",
   "metadata": {},
   "outputs": [
    {
     "name": "stdout",
     "output_type": "stream",
     "text": [
      "City Montpellier\n",
      "Days Spent 5.5\n",
      "Le nombre moyen de photos pris par jour est de 42\n"
     ]
    }
   ],
   "source": [
    "# TODO Add new variable\n",
    "average_photos_by_day = 0 \n",
    "\n",
    "# TODO Calculate average photos per day\n",
    "average_photos_by_day = (photos_taken / days_spent)\n",
    "\n",
    "# TODO Calculate something else using your new variable\n",
    "average_photos_by_day = round(photos_taken / days_spent)\n",
    "\n",
    "# Print text and variables \n",
    "print(\"City\", city)\n",
    "print(\"Days Spent\", days_spent)\n",
    "\n",
    "# TODO Print average number of photo using f-strings\n",
    "print(f\"Le nombre moyen de photos pris par jour est de {average_photos_by_day}\")"
   ]
  },
  {
   "cell_type": "markdown",
   "id": "dff2a6fe",
   "metadata": {},
   "source": [
    "### 2 – Analyser la météo  \n",
    "\n",
    "__Syntaxe__\n",
    "\n",
    "```\n",
    "# Si la condition_1 est True, alors faire la task_1\n",
    "if condition_1:\n",
    "    faire task_1\n",
    "# Si la condition 2 est True, alors faire la task_2\n",
    "elif condtion_2: \n",
    "    faire task_2\n",
    "# Si la condition 2 est True, alors faire la task_2\n",
    "elif condtion_3: \n",
    "    faire task_3\n",
    "# Sinon faire la task_4\n",
    "else:\n",
    "    faire task_4\n",
    "```\n",
    "\n",
    "Pour la syntaxe et des exemples de conditions, voir la partie précédente du code #Compare variables\n",
    "\n",
    "**TODO**\n",
    "\n",
    "- Créer une liste de plusieurs chaînes de caractères contenant des indications de météo [`string`, `string`].\n",
    "- Créer une variable qui indique la météo d'un jour particulier (`string`).\n",
    "- Analyser la météo et afficher un message personnalisé selon le cas ( `if`, `elif`, `else`).\n",
    "\n",
    "\n"
   ]
  },
  {
   "cell_type": "code",
   "execution_count": 16,
   "id": "61cc3382",
   "metadata": {},
   "outputs": [
    {
     "name": "stdout",
     "output_type": "stream",
     "text": [
      "type weather type is valid\n",
      "the weather is sunny\n"
     ]
    }
   ],
   "source": [
    "# Set the weather condition\n",
    "weather = \"sunny\" # string #TODO\n",
    "\n",
    "# List of accepted weather values (at least 3 different value)\n",
    "valid_weather = [\"sunny\", \"rainy\", \"snowy\"] # List #TODO\n",
    "\n",
    "# Check if the weather is in the list of valid_weather values\n",
    "if weather not in valid_weather : #TODO compléter la condition :\n",
    "\n",
    "    print(\"Unknown weather type.\")\n",
    "else:\n",
    "\n",
    "    # TODO Test if weather is in valid_weather and display a personalized message\n",
    "        print(\"type weather type is valid\")\n",
    "        print(f\"the weather is {weather}\")\n",
    "\n"
   ]
  },
  {
   "cell_type": "code",
   "execution_count": null,
   "id": "f826dab5",
   "metadata": {},
   "outputs": [
    {
     "name": "stdout",
     "output_type": "stream",
     "text": [
      "I wear light clothes.\n"
     ]
    }
   ],
   "source": [
    "# Set the weather condition\n",
    "weather = \"sunny\" # string #TODO\n",
    "\n",
    "# Check if the weather is in the list of valid_weather values\n",
    "if weather == valid_weather[0] : #TODO compléter la condition :\n",
    "\n",
    "    print(\"I wear light clothes.\")\n",
    "\n",
    "elif weather == valid_weather[1]:\n",
    "\n",
    "    print(\"I take an umbrella\")\n",
    "\n",
    "elif weather == valid_weather[2]:\n",
    "\n",
    "    print(\"I take an umbrella\")\n",
    "\n",
    "else:\n",
    "\n",
    "    # TODO Test if weather is in valid_weather and display a personalized message\n",
    "        print(\"type weather type is not valid\")"
   ]
  },
  {
   "cell_type": "markdown",
   "id": "8ea60ed0",
   "metadata": {},
   "source": [
    "### 3 - Un dictionnaire de voyage\n",
    "On peut stocker un voyage avec les informations associées dans un dictionnaire.\n",
    "\n",
    "__Syntaxe__\n",
    "\n",
    "\n",
    "````\n",
    "trip = {\"nom information 1\": valeur information 1, \"nom information 2\": valeur information 2}\n",
    "````\n",
    "\n",
    "- Il peut y avoir autant de paire clé/valeur que l'on souhaite.\n",
    "\n",
    "- La clé est nécéssairement une __chaîne de caractère__, la valeur de n'importe quel type (même un autre dictionnaire).\n",
    "\n",
    "\n",
    "\n",
    "````print(trip[\"nom information 1\"])```` affiche ````valeur information 1````\n",
    "\n",
    "````trip[\"nom information 1\"]) = nouvelle valeur````\n",
    "\n",
    "\n",
    "\n",
    "**TODO**\n",
    "\n",
    "- Ajouter au moins deux autres paires de clé/valeur dans le dictionnaire suivant.\n",
    "- Afficher un petit résumé du voyage, incluant un calcul du nombre moyen de photo prises par jour"
   ]
  },
  {
   "cell_type": "code",
   "execution_count": null,
   "id": "3fce9517",
   "metadata": {},
   "outputs": [
    {
     "name": "stdout",
     "output_type": "stream",
     "text": [
      "{'city': 'Montpellier', 'department': 34, 'photos_taken': 150, 'days_spent': 5.5, 'photo_by_day': 42, 'weather': 'sunny'}\n"
     ]
    }
   ],
   "source": [
    "# Create a dictionary for one trip\n",
    "#TODO Ajouter des paires clé-valeur de votre choix\n",
    "trip = {\n",
    "    \"city\": \"Montpellier\",\n",
    "    \"department\": 34,\n",
    "    \"photos_taken\": 150,\n",
    "    \"days_spent\": 5.5,\n",
    "}\n",
    "trip1 = {\n",
    "    \"city\": \"Nimes\",\n",
    "    \"department\": 30,\n",
    "    \"photos_taken\": 100,\n",
    "    \"days_spent\": 3,\n",
    "}\n",
    "trip2 = {\n",
    "    \"city\": \"Bordeaux\",\n",
    "    \"department\": 33,\n",
    "    \"photos_taken\": 110,\n",
    "    \"days_spent\": 7.5,\n",
    "}\n",
    "trip[\"photo_by_day\"] = 42\n",
    "trip[\"weather\"] = \"sunny\"\n",
    "# Print a trip summary #TODO\n",
    "print(trip)"
   ]
  },
  {
   "cell_type": "markdown",
   "id": "87488af5",
   "metadata": {},
   "source": [
    "### 4 - Carnet de voyage  \n",
    "\n",
    "On stocke plusieurs voyages dans une liste et on les affiche un à un.\n",
    "\n",
    "On peut parcourir tous les éléments d'une liste en faisant une boucle ```for```.\n",
    "\n",
    "__Syntaxe__\n",
    "\n",
    "\n",
    "````\n",
    "my_list = [element_1, element_2]\n",
    "for element in my_list:\n",
    "    print(element)\n",
    "````\n",
    "\n",
    "**TODO**\n",
    "- Afficher un élément de la liste. Ex : `my_list[0]` affiche le premier élément\n",
    "- Compter le nombre de voyage en utilisant `len(my_list)`\n",
    "- Pour chaque voyage de la liste, afficher un court résumé incluant un calcul du nombre moyen de photo prises par jour"
   ]
  },
  {
   "cell_type": "code",
   "execution_count": null,
   "id": "291fc9ec",
   "metadata": {},
   "outputs": [
    {
     "name": "stdout",
     "output_type": "stream",
     "text": [
      "['sunny', 'rainy', 'snowy']\n",
      "Travel Journal:\n"
     ]
    }
   ],
   "source": [
    "# TODO Add new trips to the list of trips\n",
    "trip_list = [trip, trip1, trip2]\n",
    "\n",
    "# TODO Print one element of the trip_list\n",
    "print(trip_list[1])\n",
    "\n",
    "# TODO Print the number of trips in the trip_list\n",
    "print(f\"the number of trips in the trip_list{len(trip_list)}\")\n",
    "\n",
    "# Loop through and print each trip\n",
    "for each_trip in trip_list:\n",
    "    print(f\"Travel Journal: {each_trip}\")\n",
    "\n",
    "# TODO Loop through trip_list and print each trip\n"
   ]
  },
  {
   "cell_type": "markdown",
   "id": "4d0ea091",
   "metadata": {},
   "source": [
    "### 5 - Utiliser des fonctions \n",
    "On a écrit plusieurs fois le numéro du département de Montpellier. On sait qu'il ne va pas changer au cours du projet, dans ce cas une bonne pratique pour savoir de quoi on parle et d'éviter les erreurs de recopie est de définir une variable en début de projet qu'on pourra réutiliser dés que nécessaire :\n",
    "\n",
    "```DEPARTEMENT = 34```\n",
    "\n",
    "On a également écrit plein de fois le calcul du nombre de photos par jour. On peut créer une fonction que l'on pourra réutiliser dés que nécessairequi prendra en entrée un voyage, qui fera le calcul et qui retournera le nombre moyen de photo.\n",
    "\n",
    "Après le nom de la fonction, on ajoute entre \"\"\" de la documentation sur les paramètres d'entrée (type et explication) et sur les sorties \"\"\"."
   ]
  },
  {
   "cell_type": "code",
   "execution_count": null,
   "id": "1724eb3a",
   "metadata": {},
   "outputs": [],
   "source": [
    "def compute_average_photos_per_day(trip):\n",
    "    \"\"\"\n",
    "    Calculate the average number of photos taken per day for a trip.\n",
    "\n",
    "    Parameters\n",
    "    ----------\n",
    "    trip (dict)\n",
    "        Dictionary containing trip details including 'photos_taken' and 'days_spent'.   \n",
    "\n",
    "    Returns\n",
    "    -------\n",
    "    float\n",
    "        Average number of photos taken per day.\n",
    "    \"\"\"\n",
    "    if trip[\"days_spent\"] == 0:\n",
    "        return 0\n",
    "    else:\n",
    "        return trip['photos_taken'] / trip['days_spent']\n",
    "    \n",
    "# Example usage\n",
    "trip_example = {\n",
    "    \"city\": \"Montpellier\",\n",
    "    \"department\": 34,\n",
    "    \"photos_taken\": 150,\n",
    "    \"days_spent\": 5.5,\n",
    "}\n",
    "\n",
    "# try:\n",
    "#     average_photos = compute_average_photos_per_day(trip_example)\n",
    "#     print(average_photos)\n",
    "# except ZeroDivisionError:\n",
    "#     print(\"Vous ne pouvez pas diviser par zéro\")"
   ]
  },
  {
   "cell_type": "markdown",
   "id": "bac621fe",
   "metadata": {},
   "source": [
    "**TODO**\n",
    "\n",
    "- Tester la fonction dans le case où ````photos_taken = 0````\n",
    "- Lire l'erreur\n",
    "- Adapter la fonction en utilisant une condition (if, else) pour renvoyer 0 dans ce cas."
   ]
  },
  {
   "cell_type": "code",
   "execution_count": 18,
   "id": "2caeba0f",
   "metadata": {},
   "outputs": [
    {
     "name": "stdout",
     "output_type": "stream",
     "text": [
      "{'city': 'Montpellier', 'department': 34, 'photos_taken': 150, 'days_spent': 0}\n",
      "0\n"
     ]
    }
   ],
   "source": [
    "# TODO Test function with a trip that has 0 photos\n",
    "trip_example[\"days_spent\"] = 0\n",
    "print(trip_example)\n",
    "\n",
    "\n",
    "average_photos = compute_average_photos_per_day(trip_example)\n",
    "print(average_photos)\n"
   ]
  },
  {
   "cell_type": "code",
   "execution_count": null,
   "id": "1ea11ba0",
   "metadata": {},
   "outputs": [],
   "source": [
    "def compute_average_photos_per_day(trip):\n",
    "    \"\"\"\n",
    "    Calculate the average number of photos taken per day for a trip.\n",
    "\n",
    "    Parameters\n",
    "    ----------\n",
    "    trip (dict)\n",
    "        Dictionary containing trip details including 'photos_taken' and 'days_spent'.   \n",
    "\n",
    "    Returns\n",
    "    -------\n",
    "    float\n",
    "        Average number of photos taken per day. If 'photos_taken' is 0, returns 0.\n",
    "    \"\"\"\n"
   ]
  },
  {
   "cell_type": "markdown",
   "id": "bac9b0ad",
   "metadata": {},
   "source": [
    "### 6 - Compter les villes uniques visitées  \n",
    "Au lieu d'utiliser une boucle `for` pour parcourir les éléments d'une liste, on peut utiliser la **compréhension de liste**.\n",
    "\n",
    "__Exemple__\n",
    "\n",
    "\n",
    "```\n",
    "my_list = [100, 200, 300]\n",
    "comprehension_list = [value / 10 for value in my_list]\n",
    "comprehension_list\n",
    ">> [10.0, 20.0, 30.0]\n",
    "```\n",
    "\n",
    "**TODO**\n",
    "- Afficher la liste `trip_list` définie précédemment, vérifier qu'elle contient plusieurs villes différentes.\n",
    "- Créer la liste `cities` en adaptant l'exemple ci-dessus.\n",
    "- Affiche le nombre de villes différentes visitées, sans doublon. Utiliser `set(my_liste)`qui permet de conserver les éléments uniques d'une liste."
   ]
  },
  {
   "cell_type": "code",
   "execution_count": 40,
   "id": "2915a507",
   "metadata": {},
   "outputs": [
    {
     "name": "stdout",
     "output_type": "stream",
     "text": [
      "['barcelon', 'rio', 'paris', 'casa', []]\n"
     ]
    }
   ],
   "source": [
    "# TODO Print trip_list\n",
    "print(trip_list)"
   ]
  },
  {
   "cell_type": "code",
   "execution_count": null,
   "id": "ae25986e",
   "metadata": {},
   "outputs": [
    {
     "name": "stdout",
     "output_type": "stream",
     "text": [
      "['barcelon', 'rio', 'paris', 'casa', []]\n"
     ]
    },
    {
     "ename": "TypeError",
     "evalue": "unhashable type: 'list'",
     "output_type": "error",
     "traceback": [
      "\u001b[31m---------------------------------------------------------------------------\u001b[39m",
      "\u001b[31mTypeError\u001b[39m                                 Traceback (most recent call last)",
      "\u001b[36mCell\u001b[39m\u001b[36m \u001b[39m\u001b[32mIn[37]\u001b[39m\u001b[32m, line 8\u001b[39m\n\u001b[32m      5\u001b[39m \u001b[38;5;28mprint\u001b[39m(cities)\n\u001b[32m      7\u001b[39m \u001b[38;5;66;03m# TODO Create a set to get unique cities\u001b[39;00m\n\u001b[32m----> \u001b[39m\u001b[32m8\u001b[39m unique_citie = \u001b[38;5;28;43mset\u001b[39;49m\u001b[43m(\u001b[49m\u001b[43mtrip_list\u001b[49m\u001b[43m)\u001b[49m\n\u001b[32m      9\u001b[39m \u001b[38;5;28mprint\u001b[39m(unique_citie)\n\u001b[32m     10\u001b[39m \u001b[38;5;66;03m# Print the number of unique cities\u001b[39;00m\n",
      "\u001b[31mTypeError\u001b[39m: unhashable type: 'list'"
     ]
    }
   ],
   "source": [
    "# TODO Extract all visited cities\n",
    "cities = []\n",
    "for value in trip_list:\n",
    "    cities.append(value)\n",
    "print(cities)\n",
    "\n",
    "# TODO Create a set to get unique cities\n",
    "\n",
    "# Print the number of unique cities\n"
   ]
  },
  {
   "cell_type": "markdown",
   "id": "11c13169",
   "metadata": {},
   "source": [
    "### 7 - Trier les voyages par nombre de photos  \n",
    "\n",
    "**TODO**\n",
    "- Afficher les voyages du plus photographié au moins photographié. Utiliser la fonction [sorted](https://docs.python.org/3/library/functions.html#sorted) en allant lire la documentation de fonction."
   ]
  },
  {
   "cell_type": "code",
   "execution_count": null,
   "id": "ac2706fa",
   "metadata": {},
   "outputs": [],
   "source": [
    "# TODO Print trips from the most photographed to the least photographed"
   ]
  }
 ],
 "metadata": {
  "kernelspec": {
   "display_name": ".venv",
   "language": "python",
   "name": "python3"
  },
  "language_info": {
   "codemirror_mode": {
    "name": "ipython",
    "version": 3
   },
   "file_extension": ".py",
   "mimetype": "text/x-python",
   "name": "python",
   "nbconvert_exporter": "python",
   "pygments_lexer": "ipython3",
   "version": "3.12.3"
  }
 },
 "nbformat": 4,
 "nbformat_minor": 5
}
