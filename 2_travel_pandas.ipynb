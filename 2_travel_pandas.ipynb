{
 "cells": [
  {
   "cell_type": "markdown",
   "metadata": {},
   "source": [
    "# En voyage avec (des) pandas\n",
    "\n",
    "Suite à la première étape où vous avez découvert (ou révisé) des bases de Python, vous allez découvrir (ou réviser) l'utilisation de la bibliothèque **pandas** pour traiter un fichier csv travel_data.csv qui contient un carnet de voyage.\n",
    "\n",
    "Pour réaliser les exercices, utilisez la documentation officielle de pandas :  \n",
    "https://pandas.pydata.org/pandas-docs/stable/\n",
    "\n",
    "N'hésitez pas à rechercher les fonctions, méthodes et exemples nécessaires pour compléter les tâches demandées.  \n",
    "\n",
    "Chaque cellule de code est précédée d'une cellule TODO indiquant la liste des objectifs à atteindre.\n",
    "\n",
    "Répondez également dans le notebook aux petites questions proposées."
   ]
  },
  {
   "cell_type": "code",
   "execution_count": 1,
   "id": "b5c50044",
   "metadata": {},
   "outputs": [
    {
     "name": "stdout",
     "output_type": "stream",
     "text": [
      "Requirement already satisfied: pandas in ./.venv/lib/python3.12/site-packages (2.3.0)\n",
      "Requirement already satisfied: numpy>=1.26.0 in ./.venv/lib/python3.12/site-packages (from pandas) (2.3.1)\n",
      "Requirement already satisfied: python-dateutil>=2.8.2 in ./.venv/lib/python3.12/site-packages (from pandas) (2.9.0.post0)\n",
      "Requirement already satisfied: pytz>=2020.1 in ./.venv/lib/python3.12/site-packages (from pandas) (2025.2)\n",
      "Requirement already satisfied: tzdata>=2022.7 in ./.venv/lib/python3.12/site-packages (from pandas) (2025.2)\n",
      "Requirement already satisfied: six>=1.5 in ./.venv/lib/python3.12/site-packages (from python-dateutil>=2.8.2->pandas) (1.17.0)\n"
     ]
    }
   ],
   "source": [
    "# Il faut installer la bibliothèque pandas. On verra comment faire ça proprement plus tard.\n",
    "!pip install pandas"
   ]
  },
  {
   "cell_type": "markdown",
   "metadata": {},
   "source": [
    "# 1. Charger et afficher les données\n",
    "\n",
    "**TODO**\n",
    "\n",
    "- Importer la bibliothèque pandas sous l’alias `pd`  \n",
    "- Charger le fichier `travel_journal.csv` dans un DataFrame `df_trips`  \n",
    "- Afficher les 5 premières lignes du DataFrame  \n",
    "- Afficher les types de données des colonnes"
   ]
  },
  {
   "cell_type": "code",
   "execution_count": 2,
   "metadata": {},
   "outputs": [
    {
     "name": "stdout",
     "output_type": "stream",
     "text": [
      "        city        date weather     mood  photos\n",
      "0      Paris  2024-03-15   sunny    happy     150\n",
      "1       Lyon  2024-04-10  cloudy  curious      80\n",
      "2  Marseille  2024-05-05     NaN      sad      25\n",
      "3   Bordeaux  2024-06-20   sunny  excited     200\n",
      "4       Nice  2024-07-12   sunny  relaxed     180\n",
      "city       object\n",
      "date       object\n",
      "weather    object\n",
      "mood       object\n",
      "photos      int64\n",
      "dtype: object\n"
     ]
    }
   ],
   "source": [
    "# Write your code here\n",
    "import pandas as pd\n",
    "df_trips = pd.read_csv(\"travel_data.csv\")\n",
    "fives_lines= df_trips.head()\n",
    "print(fives_lines)\n",
    "\n",
    "types_data = df_trips.dtypes\n",
    "print(types_data)"
   ]
  },
  {
   "cell_type": "markdown",
   "metadata": {},
   "source": [
    "# 2. Nettoyer les données manquantes\n",
    "\n",
    "**TODO**\n",
    "\n",
    "- Identifier les lignes avec des valeurs manquantes dans le DataFrame  \n",
    "- Remplacer les valeurs manquantes dans la colonne `weather` par `\"unknown\"`  \n",
    "- Convertir la colonne `date` en format datetime  \n",
    "- Trier le DataFrame par date croissante\n",
    "- Exporter les données dans un fichier clean_travel_data.csv\n",
    "- A votre avis quel autre type de vérifications pourrait-on faire afin de nettoyer les données ?"
   ]
  },
  {
   "cell_type": "code",
   "execution_count": null,
   "metadata": {},
   "outputs": [
    {
     "ename": "TypeError",
     "evalue": "'function' object is not subscriptable",
     "output_type": "error",
     "traceback": [
      "\u001b[31m---------------------------------------------------------------------------\u001b[39m",
      "\u001b[31mTypeError\u001b[39m                                 Traceback (most recent call last)",
      "\u001b[36mCell\u001b[39m\u001b[36m \u001b[39m\u001b[32mIn[3]\u001b[39m\u001b[32m, line 8\u001b[39m\n\u001b[32m      5\u001b[39m data_change_empty = df_trips.fillna(value=\u001b[33m'\u001b[39m\u001b[33munknown\u001b[39m\u001b[33m'\u001b[39m)\n\u001b[32m      6\u001b[39m \u001b[38;5;66;03m# print(data_change_empty) \u001b[39;00m\n\u001b[32m      7\u001b[39m \u001b[38;5;66;03m# convertir la colonne date en format date time\u001b[39;00m\n\u001b[32m----> \u001b[39m\u001b[32m8\u001b[39m data_to_convert = \u001b[43mpd\u001b[49m\u001b[43m.\u001b[49m\u001b[43mto_datetime\u001b[49m\u001b[43m[\u001b[49m\u001b[43mdf_trips\u001b[49m\u001b[43m[\u001b[49m\u001b[33;43m'\u001b[39;49m\u001b[33;43mdate\u001b[39;49m\u001b[33;43m'\u001b[39;49m\u001b[43m]\u001b[49m\u001b[43m]\u001b[49m\n\u001b[32m      9\u001b[39m \u001b[38;5;28mprint\u001b[39m(data_to_convert)\n",
      "\u001b[31mTypeError\u001b[39m: 'function' object is not subscriptable"
     ]
    }
   ],
   "source": [
    "# Write your code here\n",
    "# Identifier les lignes avec valeurs manquantes\n",
    "data_empty = df_trips.fillna\n",
    "# Remplacer les valeurs manquantes dans la colonne weather par \"unknown\"\n",
    "data_change_empty = df_trips.fillna(value='unknown')\n",
    "# print(data_change_empty) \n",
    "# convertir la colonne date en format date time\n",
    "df_trips['']= pd.to_datetime[df_trips['date']]\n",
    "print(data_to_convert)\n"
   ]
  },
  {
   "cell_type": "markdown",
   "metadata": {},
   "source": [
    "# 3. Filtrer et trier les voyages\n",
    "\n",
    "**TODO**\n",
    "\n",
    "- Extraire les voyages où la météo est `\"sunny\"` et le nombre de photos est supérieur à 100  \n",
    "- Trier ces voyages par nombre de photos décroissant  \n",
    "- Afficher les colonnes `city`, `date`, `photos` du résultat filtré"
   ]
  },
  {
   "cell_type": "code",
   "execution_count": null,
   "metadata": {},
   "outputs": [],
   "source": [
    "# Write your code here"
   ]
  },
  {
   "cell_type": "markdown",
   "metadata": {},
   "source": [
    "# 4. Groupements et agrégations\n",
    "\n",
    "**TODO**\n",
    "\n",
    "- Calculer le total des photos prises par ville  \n",
    "- Calculer la moyenne des photos selon la météo  \n",
    "- Compter le nombre de voyages par humeur (mood)"
   ]
  },
  {
   "cell_type": "code",
   "execution_count": null,
   "metadata": {},
   "outputs": [],
   "source": [
    "# Write your code here"
   ]
  }
 ],
 "metadata": {
  "kernelspec": {
   "display_name": ".venv",
   "language": "python",
   "name": "python3"
  },
  "language_info": {
   "codemirror_mode": {
    "name": "ipython",
    "version": 3
   },
   "file_extension": ".py",
   "mimetype": "text/x-python",
   "name": "python",
   "nbconvert_exporter": "python",
   "pygments_lexer": "ipython3",
   "version": "3.12.3"
  }
 },
 "nbformat": 4,
 "nbformat_minor": 5
}
