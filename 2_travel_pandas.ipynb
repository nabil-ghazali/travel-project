{
 "cells": [
  {
   "cell_type": "markdown",
   "metadata": {},
   "source": [
    "# En voyage avec (des) pandas\n",
    "\n",
    "Suite à la première étape où vous avez découvert (ou révisé) des bases de Python, vous allez découvrir (ou réviser) l'utilisation de la bibliothèque **pandas** pour traiter un fichier csv travel_data.csv qui contient un carnet de voyage.\n",
    "\n",
    "Pour réaliser les exercices, utilisez la documentation officielle de pandas :  \n",
    "https://pandas.pydata.org/pandas-docs/stable/\n",
    "\n",
    "N'hésitez pas à rechercher les fonctions, méthodes et exemples nécessaires pour compléter les tâches demandées.  \n",
    "\n",
    "Chaque cellule de code est précédée d'une cellule TODO indiquant la liste des objectifs à atteindre.\n",
    "\n",
    "Répondez également dans le notebook aux petites questions proposées."
   ]
  },
  {
   "cell_type": "code",
   "execution_count": 1,
   "id": "b5c50044",
   "metadata": {},
   "outputs": [
    {
     "name": "stdout",
     "output_type": "stream",
     "text": [
      "Requirement already satisfied: pandas in ./.venv/lib/python3.12/site-packages (2.3.0)\n",
      "Requirement already satisfied: numpy>=1.26.0 in ./.venv/lib/python3.12/site-packages (from pandas) (2.3.1)\n",
      "Requirement already satisfied: python-dateutil>=2.8.2 in ./.venv/lib/python3.12/site-packages (from pandas) (2.9.0.post0)\n",
      "Requirement already satisfied: pytz>=2020.1 in ./.venv/lib/python3.12/site-packages (from pandas) (2025.2)\n",
      "Requirement already satisfied: tzdata>=2022.7 in ./.venv/lib/python3.12/site-packages (from pandas) (2025.2)\n",
      "Requirement already satisfied: six>=1.5 in ./.venv/lib/python3.12/site-packages (from python-dateutil>=2.8.2->pandas) (1.17.0)\n"
     ]
    }
   ],
   "source": [
    "# Il faut installer la bibliothèque pandas. On verra comment faire ça proprement plus tard.\n",
    "!pip install pandas"
   ]
  },
  {
   "cell_type": "markdown",
   "metadata": {},
   "source": [
    "# 1. Charger et afficher les données\n",
    "\n",
    "**TODO**\n",
    "\n",
    "- Importer la bibliothèque pandas sous l’alias `pd`  \n",
    "- Charger le fichier `travel_journal.csv` dans un DataFrame `df_trips`  \n",
    "- Afficher les 5 premières lignes du DataFrame  \n",
    "- Afficher les types de données des colonnes"
   ]
  },
  {
   "cell_type": "code",
   "execution_count": 2,
   "metadata": {},
   "outputs": [
    {
     "name": "stdout",
     "output_type": "stream",
     "text": [
      "        city        date weather     mood  photos\n",
      "0      Paris  2024-03-15   sunny    happy     150\n",
      "1       Lyon  2024-04-10  cloudy  curious      80\n",
      "2  Marseille  2024-05-05     NaN      sad      25\n",
      "3   Bordeaux  2024-06-20   sunny  excited     200\n",
      "4       Nice  2024-07-12   sunny  relaxed     180\n",
      "city       object\n",
      "date       object\n",
      "weather    object\n",
      "mood       object\n",
      "photos      int64\n",
      "dtype: object\n"
     ]
    }
   ],
   "source": [
    "# Write your code here\n",
    "import pandas as pd\n",
    "df_trips_original = pd.read_csv(\"travel_data.csv\")\n",
    "df_trips= df_trips_original \n",
    "fives_lines= df_trips.head()\n",
    "print(fives_lines)\n",
    "\n",
    "types_data = df_trips.dtypes\n",
    "print(types_data)"
   ]
  },
  {
   "cell_type": "markdown",
   "metadata": {},
   "source": [
    "# 2. Nettoyer les données manquantes\n",
    "\n",
    "**TODO**\n",
    "\n",
    "- Identifier les lignes avec des valeurs manquantes dans le DataFrame  \n",
    "- Remplacer les valeurs manquantes dans la colonne `weather` par `\"unknown\"`  \n",
    "- Convertir la colonne `date` en format datetime  \n",
    "- Trier le DataFrame par date croissante\n",
    "- A votre avis quel autre type de vérifications pourrait-on faire afin de nettoyer les données ?"
   ]
  },
  {
   "cell_type": "code",
   "execution_count": null,
   "metadata": {},
   "outputs": [
    {
     "name": "stdout",
     "output_type": "stream",
     "text": [
      "           city        date  weather        mood  photos\n",
      "0         Paris  2024-03-15    sunny       happy     150\n",
      "1         Paris  2024-03-20   cloudy     excited     130\n",
      "2          Lyon  2024-04-10   cloudy     curious      80\n",
      "3          Lyon  2024-04-15    sunny      joyful      95\n",
      "4     Marseille  2024-05-05  unknown         sad      25\n",
      "5     Marseille  2024-05-10    sunny     relaxed      75\n",
      "6      Bordeaux  2024-06-20    sunny     excited     200\n",
      "7      Bordeaux  2024-06-25    rainy  thoughtful      30\n",
      "8          Nice  2024-07-12    sunny     relaxed     180\n",
      "9          Nice  2024-07-20    rainy         sad      40\n",
      "10   Strasbourg  2024-08-30    rainy  thoughtful      20\n",
      "11   Strasbourg  2024-09-05   cloudy       happy      55\n",
      "12     Toulouse  2024-09-15   cloudy       happy      90\n",
      "13     Toulouse  2024-09-20    sunny     curious      85\n",
      "14       Nantes  2024-10-05  unknown        calm      70\n",
      "15       Nantes  2024-10-10    sunny     excited      65\n",
      "16  Montpellier  2024-11-25    sunny      joyful     110\n",
      "17  Montpellier  2024-12-01    rainy       bored      35\n",
      "18     Grenoble  2024-12-10    snowy        cold     -15\n",
      "19     Grenoble  2024-12-15    snowy        calm      20\n"
     ]
    }
   ],
   "source": [
    "# Write your code here\n",
    "# Identifier les lignes avec valeurs manquantes\n",
    "df_trips.fillna\n",
    "# Remplacer les valeurs manquantes dans la colonne weather par \"unknown\"\n",
    "df_trips.fillna(value='unknown', inplace=True)\n",
    "# print(data_change_empty) \n",
    "# convertir la colonne date en format date time\n",
    "df_trips['date']= pd.to_datetime(df_trips['date'])\n",
    "# print(df_trips)\n",
    "# Trier le DataFrame par date croissante\n",
    "df_trips.sort_values(by='date', inplace=True)\n",
    "# print(df_trips)\n",
    "# - Exporter les données dans un fichier clean_travel_data.csv\n",
    "df_trips.to_csv('clean_travel_data.csv', index=False)\n",
    "exported_data = pd.read_csv('clean_travel_data.csv')\n",
    "print(exported_data)"
   ]
  },
  {
   "cell_type": "markdown",
   "id": "a987572f",
   "metadata": {},
   "source": [
    "On aurait pu supprimmer les doublons"
   ]
  },
  {
   "cell_type": "markdown",
   "metadata": {},
   "source": [
    "# 3. Filtrer et trier les voyages\n",
    "\n",
    "**TODO**\n",
    "\n",
    "- Extraire les voyages où la météo est `\"sunny\"` et le nombre de photos est supérieur à 100  \n",
    "- Trier ces voyages par nombre de photos décroissant  \n",
    "- Afficher les colonnes `city`, `date`, `photos` du résultat filtré"
   ]
  },
  {
   "cell_type": "code",
   "execution_count": null,
   "id": "a02588e2",
   "metadata": {},
   "outputs": [],
   "source": []
  },
  {
   "cell_type": "code",
   "execution_count": null,
   "id": "eca8ed1d",
   "metadata": {},
   "outputs": [],
   "source": []
  },
  {
   "cell_type": "code",
   "execution_count": null,
   "metadata": {},
   "outputs": [
    {
     "name": "stdout",
     "output_type": "stream",
     "text": [
      "          city       date  photos\n",
      "3     Bordeaux 2024-06-20     200\n",
      "4         Nice 2024-07-12     180\n",
      "0        Paris 2024-03-15     150\n",
      "8  Montpellier 2024-11-25     110\n"
     ]
    }
   ],
   "source": [
    "# Write your code here\n",
    "# Extraire les voyages où la météo est `\"sunny\"` et le nombre de photos est supérieur à 100  \n",
    "filtre = df_trips[(df_trips['weather'] == 'sunny') & (df_trips['photos'] > 100)]\n",
    "# print(filtre)\n",
    "\n",
    "# - Trier ces voyages par nombre de photos décroissant  \n",
    "Trie = df_trips.sort_values(by='photos', ascending=False)\n",
    "# print(Trie)\n",
    "\n",
    "# - Afficher les colonnes `city`, `date`, `photos` du résultat filtré\n",
    "Total_filtre= df_trips[(df_trips['weather'] == 'sunny') & (df_trips['photos'] > 100)].sort_values(by='photos', ascending=False)[['city', 'date', 'photos']]\n",
    "print(Total_filtre)"
   ]
  },
  {
   "cell_type": "markdown",
   "metadata": {},
   "source": [
    "# 4. Groupements et agrégations\n",
    "\n",
    "**TODO**\n",
    "\n",
    "- Calculer le total des photos prises par ville  \n",
    "- Calculer la moyenne des photos selon la météo  \n",
    "- Compter le nombre de voyages par humeur (mood)"
   ]
  },
  {
   "cell_type": "code",
   "execution_count": 25,
   "metadata": {},
   "outputs": [
    {
     "name": "stdout",
     "output_type": "stream",
     "text": [
      "mood\n",
      "bored         1\n",
      "calm          2\n",
      "cold          1\n",
      "curious       2\n",
      "excited       3\n",
      "happy         3\n",
      "joyful        2\n",
      "relaxed       2\n",
      "sad           2\n",
      "thoughtful    2\n",
      "Name: mood, dtype: int64\n"
     ]
    }
   ],
   "source": [
    "# Write your code here\n",
    "# - Calculer le total des photos prises par ville \n",
    "sum_picture_by_city = df_trips.groupby('city')['photos'].sum()\n",
    "# print(sum_picture_by_city) \n",
    "\n",
    "# - Calculer la moyenne des photos selon la météo \n",
    "moyenne_picture_by_weather = df_trips.groupby('weather')['photos'].mean() \n",
    "# print(moyenne_picture_by_weather)\n",
    "\n",
    "# - Compter le nombre de voyages par humeur (mood)\n",
    "number_picture_by_mood = df_trips.groupby('mood')['mood'].count()\n",
    "print(number_picture_by_mood)"
   ]
  }
 ],
 "metadata": {
  "kernelspec": {
   "display_name": ".venv",
   "language": "python",
   "name": "python3"
  },
  "language_info": {
   "codemirror_mode": {
    "name": "ipython",
    "version": 3
   },
   "file_extension": ".py",
   "mimetype": "text/x-python",
   "name": "python",
   "nbconvert_exporter": "python",
   "pygments_lexer": "ipython3",
   "version": "3.12.3"
  }
 },
 "nbformat": 4,
 "nbformat_minor": 5
}
